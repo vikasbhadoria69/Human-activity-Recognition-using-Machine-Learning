{
 "cells": [
  {
   "cell_type": "code",
   "execution_count": 28,
   "metadata": {},
   "outputs": [],
   "source": [
    "import matplotlib.cm as cm\n",
    "%matplotlib inline\n",
    "\n",
    "from sklearn.svm import SVC\n",
    "from sklearn.linear_model import LogisticRegression\n",
    "from sklearn.neighbors import KNeighborsClassifier\n",
    "from sklearn.ensemble import RandomForestClassifier\n",
    "\n",
    "from sklearn.metrics import accuracy_score"
   ]
  },
  {
   "cell_type": "code",
   "execution_count": 1,
   "metadata": {},
   "outputs": [
    {
     "data": {
      "application/javascript": [
       "\n",
       "        if (window._pyforest_update_imports_cell) { window._pyforest_update_imports_cell('import pandas as pd'); }\n",
       "    "
      ],
      "text/plain": [
       "<IPython.core.display.Javascript object>"
      ]
     },
     "metadata": {},
     "output_type": "display_data"
    },
    {
     "data": {
      "text/html": [
       "<div>\n",
       "<style scoped>\n",
       "    .dataframe tbody tr th:only-of-type {\n",
       "        vertical-align: middle;\n",
       "    }\n",
       "\n",
       "    .dataframe tbody tr th {\n",
       "        vertical-align: top;\n",
       "    }\n",
       "\n",
       "    .dataframe thead th {\n",
       "        text-align: right;\n",
       "    }\n",
       "</style>\n",
       "<table border=\"1\" class=\"dataframe\">\n",
       "  <thead>\n",
       "    <tr style=\"text-align: right;\">\n",
       "      <th></th>\n",
       "      <th>Acc_x</th>\n",
       "      <th>Acc_y</th>\n",
       "      <th>Acc_z</th>\n",
       "      <th>Gyro_x</th>\n",
       "      <th>Gyro_y</th>\n",
       "      <th>Gyro_z</th>\n",
       "      <th>Activity</th>\n",
       "    </tr>\n",
       "  </thead>\n",
       "  <tbody>\n",
       "    <tr>\n",
       "      <th>0</th>\n",
       "      <td>-9.765625</td>\n",
       "      <td>52.978516</td>\n",
       "      <td>1046.264648</td>\n",
       "      <td>13.345543</td>\n",
       "      <td>-15.624325</td>\n",
       "      <td>1.190546</td>\n",
       "      <td>2</td>\n",
       "    </tr>\n",
       "    <tr>\n",
       "      <th>1</th>\n",
       "      <td>-912.902832</td>\n",
       "      <td>-5.065918</td>\n",
       "      <td>-309.814453</td>\n",
       "      <td>-3.311157</td>\n",
       "      <td>0.015259</td>\n",
       "      <td>-0.297546</td>\n",
       "      <td>1</td>\n",
       "    </tr>\n",
       "    <tr>\n",
       "      <th>2</th>\n",
       "      <td>-1645.446777</td>\n",
       "      <td>-268.493652</td>\n",
       "      <td>-52.307129</td>\n",
       "      <td>129.821777</td>\n",
       "      <td>90.309143</td>\n",
       "      <td>30.677795</td>\n",
       "      <td>3</td>\n",
       "    </tr>\n",
       "    <tr>\n",
       "      <th>3</th>\n",
       "      <td>-68.603516</td>\n",
       "      <td>-96.801758</td>\n",
       "      <td>1032.592773</td>\n",
       "      <td>-15.501198</td>\n",
       "      <td>10.559757</td>\n",
       "      <td>0.381830</td>\n",
       "      <td>2</td>\n",
       "    </tr>\n",
       "    <tr>\n",
       "      <th>4</th>\n",
       "      <td>5.004883</td>\n",
       "      <td>-107.055664</td>\n",
       "      <td>1029.479980</td>\n",
       "      <td>3.030602</td>\n",
       "      <td>33.302982</td>\n",
       "      <td>0.984553</td>\n",
       "      <td>2</td>\n",
       "    </tr>\n",
       "  </tbody>\n",
       "</table>\n",
       "</div>"
      ],
      "text/plain": [
       "         Acc_x       Acc_y        Acc_z      Gyro_x     Gyro_y     Gyro_z  \\\n",
       "0    -9.765625   52.978516  1046.264648   13.345543 -15.624325   1.190546   \n",
       "1  -912.902832   -5.065918  -309.814453   -3.311157   0.015259  -0.297546   \n",
       "2 -1645.446777 -268.493652   -52.307129  129.821777  90.309143  30.677795   \n",
       "3   -68.603516  -96.801758  1032.592773  -15.501198  10.559757   0.381830   \n",
       "4     5.004883 -107.055664  1029.479980    3.030602  33.302982   0.984553   \n",
       "\n",
       "   Activity  \n",
       "0         2  \n",
       "1         1  \n",
       "2         3  \n",
       "3         2  \n",
       "4         2  "
      ]
     },
     "execution_count": 1,
     "metadata": {},
     "output_type": "execute_result"
    }
   ],
   "source": [
    "data = pd.read_csv('Combined_data.csv')\n",
    "data.head()"
   ]
  },
  {
   "cell_type": "code",
   "execution_count": 4,
   "metadata": {},
   "outputs": [],
   "source": [
    "X = data.drop('Activity',axis=1)\n",
    "y = data['Activity']"
   ]
  },
  {
   "cell_type": "code",
   "execution_count": 5,
   "metadata": {},
   "outputs": [],
   "source": [
    "from sklearn.model_selection import train_test_split"
   ]
  },
  {
   "cell_type": "code",
   "execution_count": 14,
   "metadata": {},
   "outputs": [],
   "source": [
    "X_train,X_test,y_train,y_test = train_test_split(X,y,test_size=0.2,random_state=1)"
   ]
  },
  {
   "cell_type": "code",
   "execution_count": 15,
   "metadata": {},
   "outputs": [
    {
     "name": "stdout",
     "output_type": "stream",
     "text": [
      "<class 'pandas.core.frame.DataFrame'>\n",
      "RangeIndex: 1037 entries, 0 to 1036\n",
      "Data columns (total 7 columns):\n",
      " #   Column    Non-Null Count  Dtype  \n",
      "---  ------    --------------  -----  \n",
      " 0   Acc_x     1037 non-null   float64\n",
      " 1   Acc_y     1037 non-null   float64\n",
      " 2   Acc_z     1037 non-null   float64\n",
      " 3   Gyro_x    1037 non-null   float64\n",
      " 4   Gyro_y    1037 non-null   float64\n",
      " 5   Gyro_z    1037 non-null   float64\n",
      " 6   Activity  1037 non-null   int64  \n",
      "dtypes: float64(6), int64(1)\n",
      "memory usage: 56.8 KB\n"
     ]
    }
   ],
   "source": [
    "data.info()"
   ]
  },
  {
   "cell_type": "code",
   "execution_count": 30,
   "metadata": {},
   "outputs": [
    {
     "data": {
      "application/javascript": [
       "\n",
       "        if (window._pyforest_update_imports_cell) { window._pyforest_update_imports_cell('import numpy as np\\nimport pandas as pd\\nimport matplotlib.pyplot as plt'); }\n",
       "    "
      ],
      "text/plain": [
       "<IPython.core.display.Javascript object>"
      ]
     },
     "metadata": {},
     "output_type": "display_data"
    },
    {
     "name": "stdout",
     "output_type": "stream",
     "text": [
      "Support Vector Classifier accuracy: 100.0%\n",
      "Logistic Regression accuracy: 84.13461538461539%\n",
      "K Nearest Neighbors Classifier accuracy: 99.51923076923077%\n"
     ]
    },
    {
     "name": "stderr",
     "output_type": "stream",
     "text": [
      "C:\\Users\\vikasbhadoria\\Anaconda3\\lib\\site-packages\\sklearn\\linear_model\\_logistic.py:940: ConvergenceWarning: lbfgs failed to converge (status=1):\n",
      "STOP: TOTAL NO. of ITERATIONS REACHED LIMIT.\n",
      "\n",
      "Increase the number of iterations (max_iter) or scale the data as shown in:\n",
      "    https://scikit-learn.org/stable/modules/preprocessing.html\n",
      "Please also refer to the documentation for alternative solver options:\n",
      "    https://scikit-learn.org/stable/modules/linear_model.html#logistic-regression\n",
      "  extra_warning_msg=_LOGISTIC_SOLVER_CONVERGENCE_MSG)\n"
     ]
    },
    {
     "name": "stdout",
     "output_type": "stream",
     "text": [
      "Random Forest Classifier accuracy: 100.0%\n"
     ]
    }
   ],
   "source": [
    "accuracy_scores = np.zeros(4)\n",
    "\n",
    "# Support Vector Classifier\n",
    "clf = SVC().fit(X_train, y_train)\n",
    "prediction = clf.predict(X_test)\n",
    "accuracy_scores[0] = accuracy_score(y_test, prediction)*100\n",
    "print('Support Vector Classifier accuracy: {}%'.format(accuracy_scores[0]))\n",
    "\n",
    "# Logistic Regression\n",
    "clf = LogisticRegression().fit(X_train, y_train)\n",
    "prediction = clf.predict(X_test)\n",
    "accuracy_scores[1] = accuracy_score(y_test, prediction)*100\n",
    "print('Logistic Regression accuracy: {}%'.format(accuracy_scores[1]))\n",
    "\n",
    "# K Nearest Neighbors\n",
    "clf = KNeighborsClassifier().fit(X_train, y_train)\n",
    "prediction = clf.predict(X_test)\n",
    "accuracy_scores[2] = accuracy_score(y_test, prediction)*100\n",
    "print('K Nearest Neighbors Classifier accuracy: {}%'.format(accuracy_scores[2]))\n",
    "\n",
    "# Random Forest\n",
    "clf = RandomForestClassifier().fit(X_train, y_train)\n",
    "prediction = clf.predict(X_test)\n",
    "accuracy_scores[3] = accuracy_score(y_test, prediction)*100\n",
    "print('Random Forest Classifier accuracy: {}%'.format(accuracy_scores[3]))"
   ]
  },
  {
   "cell_type": "code",
   "execution_count": 48,
   "metadata": {},
   "outputs": [
    {
     "name": "stdout",
     "output_type": "stream",
     "text": [
      "Random Forest Classifier accuracy: 100.0%\n"
     ]
    }
   ],
   "source": [
    "clf_RF = RandomForestClassifier().fit(X_train, y_train)\n",
    "prediction_RF = clf_RF.predict(X_test)\n",
    "accuracy_scores[3] = accuracy_score(y_test, prediction_RF)*100\n",
    "print('Random Forest Classifier accuracy: {}%'.format(accuracy_scores[3]))"
   ]
  },
  {
   "cell_type": "code",
   "execution_count": 52,
   "metadata": {},
   "outputs": [
    {
     "data": {
      "text/plain": [
       "array([3, 2, 3, 2, 2, 3, 2, 1, 2, 2, 2, 2, 2, 2, 2, 2, 3, 3, 1, 3, 1, 2,\n",
       "       1, 3, 2, 3, 3, 2, 2, 2, 2, 1, 3, 3, 3, 2, 1, 2, 3, 2, 3, 2, 2, 3,\n",
       "       2, 3, 2, 2, 2, 3, 3, 3, 2, 3, 2, 3, 3, 3, 2, 3, 3, 3, 1, 2, 2, 2,\n",
       "       2, 2, 3, 2, 2, 2, 3, 2, 3, 2, 2, 2, 1, 2, 3, 2, 2, 2, 2, 2, 2, 2,\n",
       "       2, 2, 2, 2, 2, 3, 3, 2, 3, 3, 3, 2, 2, 2, 2, 1, 2, 3, 1, 3, 2, 2,\n",
       "       2, 3, 2, 2, 2, 2, 2, 2, 3, 2, 3, 3, 2, 2, 2, 2, 2, 2, 3, 2, 3, 2,\n",
       "       2, 2, 2, 2, 3, 3, 2, 3, 2, 2, 3, 2, 3, 2, 3, 2, 2, 3, 2, 3, 1, 3,\n",
       "       2, 2, 1, 2, 2, 2, 2, 1, 3, 3, 1, 2, 3, 2, 3, 1, 2, 3, 2, 1, 1, 2,\n",
       "       2, 2, 3, 2, 3, 2, 2, 2, 2, 2, 3, 3, 3, 2, 3, 2, 2, 2, 3, 3, 3, 2,\n",
       "       2, 3, 3, 2, 3, 3, 3, 3, 2, 2], dtype=int64)"
      ]
     },
     "execution_count": 52,
     "metadata": {},
     "output_type": "execute_result"
    }
   ],
   "source": [
    "prediction_RF"
   ]
  },
  {
   "cell_type": "code",
   "execution_count": 50,
   "metadata": {},
   "outputs": [
    {
     "data": {
      "text/html": [
       "<div>\n",
       "<style scoped>\n",
       "    .dataframe tbody tr th:only-of-type {\n",
       "        vertical-align: middle;\n",
       "    }\n",
       "\n",
       "    .dataframe tbody tr th {\n",
       "        vertical-align: top;\n",
       "    }\n",
       "\n",
       "    .dataframe thead th {\n",
       "        text-align: right;\n",
       "    }\n",
       "</style>\n",
       "<table border=\"1\" class=\"dataframe\">\n",
       "  <thead>\n",
       "    <tr style=\"text-align: right;\">\n",
       "      <th></th>\n",
       "      <th>Acc_x</th>\n",
       "      <th>Acc_y</th>\n",
       "      <th>Acc_z</th>\n",
       "      <th>Gyro_x</th>\n",
       "      <th>Gyro_y</th>\n",
       "      <th>Gyro_z</th>\n",
       "    </tr>\n",
       "  </thead>\n",
       "  <tbody>\n",
       "    <tr>\n",
       "      <th>589</th>\n",
       "      <td>-794.799805</td>\n",
       "      <td>-118.835449</td>\n",
       "      <td>56.640625</td>\n",
       "      <td>-31.242371</td>\n",
       "      <td>11.489868</td>\n",
       "      <td>47.325134</td>\n",
       "    </tr>\n",
       "    <tr>\n",
       "      <th>718</th>\n",
       "      <td>-125.366211</td>\n",
       "      <td>-57.556152</td>\n",
       "      <td>1011.413574</td>\n",
       "      <td>-3.927406</td>\n",
       "      <td>4.898746</td>\n",
       "      <td>1.343134</td>\n",
       "    </tr>\n",
       "    <tr>\n",
       "      <th>677</th>\n",
       "      <td>-1208.312988</td>\n",
       "      <td>328.247070</td>\n",
       "      <td>39.001465</td>\n",
       "      <td>1.625061</td>\n",
       "      <td>-19.165039</td>\n",
       "      <td>-54.412842</td>\n",
       "    </tr>\n",
       "    <tr>\n",
       "      <th>956</th>\n",
       "      <td>186.645508</td>\n",
       "      <td>84.777832</td>\n",
       "      <td>1082.824707</td>\n",
       "      <td>2.557579</td>\n",
       "      <td>-15.090267</td>\n",
       "      <td>-4.150030</td>\n",
       "    </tr>\n",
       "    <tr>\n",
       "      <th>314</th>\n",
       "      <td>18.066406</td>\n",
       "      <td>-155.334473</td>\n",
       "      <td>1031.372070</td>\n",
       "      <td>-1.890358</td>\n",
       "      <td>32.059391</td>\n",
       "      <td>-3.219244</td>\n",
       "    </tr>\n",
       "    <tr>\n",
       "      <th>...</th>\n",
       "      <td>...</td>\n",
       "      <td>...</td>\n",
       "      <td>...</td>\n",
       "      <td>...</td>\n",
       "      <td>...</td>\n",
       "      <td>...</td>\n",
       "    </tr>\n",
       "    <tr>\n",
       "      <th>529</th>\n",
       "      <td>-751.953125</td>\n",
       "      <td>11.535645</td>\n",
       "      <td>-49.499512</td>\n",
       "      <td>-41.839600</td>\n",
       "      <td>19.012451</td>\n",
       "      <td>30.479431</td>\n",
       "    </tr>\n",
       "    <tr>\n",
       "      <th>560</th>\n",
       "      <td>-2000.000000</td>\n",
       "      <td>332.885742</td>\n",
       "      <td>-346.252441</td>\n",
       "      <td>66.825867</td>\n",
       "      <td>73.623657</td>\n",
       "      <td>3.784180</td>\n",
       "    </tr>\n",
       "    <tr>\n",
       "      <th>902</th>\n",
       "      <td>-1877.441406</td>\n",
       "      <td>-847.778320</td>\n",
       "      <td>-936.218262</td>\n",
       "      <td>-26.077271</td>\n",
       "      <td>74.424744</td>\n",
       "      <td>86.532593</td>\n",
       "    </tr>\n",
       "    <tr>\n",
       "      <th>726</th>\n",
       "      <td>-20.874023</td>\n",
       "      <td>-66.223145</td>\n",
       "      <td>1031.188965</td>\n",
       "      <td>7.013145</td>\n",
       "      <td>22.606571</td>\n",
       "      <td>5.974176</td>\n",
       "    </tr>\n",
       "    <tr>\n",
       "      <th>996</th>\n",
       "      <td>-26.855469</td>\n",
       "      <td>-121.582031</td>\n",
       "      <td>1027.160645</td>\n",
       "      <td>-29.279884</td>\n",
       "      <td>10.582645</td>\n",
       "      <td>0.625971</td>\n",
       "    </tr>\n",
       "  </tbody>\n",
       "</table>\n",
       "<p>208 rows × 6 columns</p>\n",
       "</div>"
      ],
      "text/plain": [
       "           Acc_x       Acc_y        Acc_z     Gyro_x     Gyro_y     Gyro_z\n",
       "589  -794.799805 -118.835449    56.640625 -31.242371  11.489868  47.325134\n",
       "718  -125.366211  -57.556152  1011.413574  -3.927406   4.898746   1.343134\n",
       "677 -1208.312988  328.247070    39.001465   1.625061 -19.165039 -54.412842\n",
       "956   186.645508   84.777832  1082.824707   2.557579 -15.090267  -4.150030\n",
       "314    18.066406 -155.334473  1031.372070  -1.890358  32.059391  -3.219244\n",
       "..           ...         ...          ...        ...        ...        ...\n",
       "529  -751.953125   11.535645   -49.499512 -41.839600  19.012451  30.479431\n",
       "560 -2000.000000  332.885742  -346.252441  66.825867  73.623657   3.784180\n",
       "902 -1877.441406 -847.778320  -936.218262 -26.077271  74.424744  86.532593\n",
       "726   -20.874023  -66.223145  1031.188965   7.013145  22.606571   5.974176\n",
       "996   -26.855469 -121.582031  1027.160645 -29.279884  10.582645   0.625971\n",
       "\n",
       "[208 rows x 6 columns]"
      ]
     },
     "execution_count": 50,
     "metadata": {},
     "output_type": "execute_result"
    }
   ],
   "source": [
    "X_test"
   ]
  },
  {
   "cell_type": "code",
   "execution_count": null,
   "metadata": {},
   "outputs": [],
   "source": []
  }
 ],
 "metadata": {
  "kernelspec": {
   "display_name": "Python 3",
   "language": "python",
   "name": "python3"
  },
  "language_info": {
   "codemirror_mode": {
    "name": "ipython",
    "version": 3
   },
   "file_extension": ".py",
   "mimetype": "text/x-python",
   "name": "python",
   "nbconvert_exporter": "python",
   "pygments_lexer": "ipython3",
   "version": "3.7.3"
  }
 },
 "nbformat": 4,
 "nbformat_minor": 2
}
